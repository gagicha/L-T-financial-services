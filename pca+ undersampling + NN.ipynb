{
 "cells": [
  {
   "cell_type": "code",
   "execution_count": 8,
   "metadata": {
    "collapsed": true
   },
   "outputs": [],
   "source": [
    "import pandas as pd\n",
    "import numpy as np\n",
    "import matplotlib.pyplot as plt\n",
    "import seaborn as sns\n",
    "from sklearn.linear_model import LinearRegression, LogisticRegression\n",
    "from sklearn.preprocessing import LabelEncoder, MinMaxScaler, Normalizer, StandardScaler\n",
    "from sklearn import model_selection, tree, neighbors, metrics, ensemble\n",
    "from sklearn.svm import SVC\n",
    "from xgboost import XGBClassifier\n",
    "from imblearn.over_sampling import SMOTE\n",
    "from collections import Counter\n",
    "from sklearn.decomposition import PCA"
   ]
  },
  {
   "cell_type": "code",
   "execution_count": 9,
   "metadata": {
    "collapsed": true
   },
   "outputs": [],
   "source": [
    "df_train= pd.read_csv('LFTS_train/train.csv')\n",
    "df_test= pd.read_csv('LFTS_test.csv')"
   ]
  },
  {
   "cell_type": "code",
   "execution_count": 10,
   "metadata": {
    "collapsed": true
   },
   "outputs": [],
   "source": [
    "df_train['Employment.Type'].fillna(df_train['Employment.Type'].dropna().max(), inplace=True)\n",
    "df_test['Employment.Type'].fillna(df_test['Employment.Type'].dropna().max(), inplace=True)"
   ]
  },
  {
   "cell_type": "code",
   "execution_count": 11,
   "metadata": {},
   "outputs": [
    {
     "name": "stdout",
     "output_type": "stream",
     "text": [
      "<class 'pandas.core.frame.DataFrame'>\n",
      "Int64Index: 233154 entries, 0 to 233153\n",
      "Data columns (total 41 columns):\n",
      "UniqueID                               233154 non-null int64\n",
      "disbursed_amount                       233154 non-null int64\n",
      "asset_cost                             233154 non-null int64\n",
      "ltv                                    233154 non-null float64\n",
      "branch_id                              233154 non-null int64\n",
      "supplier_id                            233154 non-null int64\n",
      "manufacturer_id                        233154 non-null int64\n",
      "Current_pincode_ID                     233154 non-null int64\n",
      "Date.of.Birth                          233154 non-null object\n",
      "Employment.Type                        233154 non-null object\n",
      "DisbursalDate                          233154 non-null object\n",
      "State_ID                               233154 non-null int64\n",
      "Employee_code_ID                       233154 non-null int64\n",
      "MobileNo_Avl_Flag                      233154 non-null int64\n",
      "Aadhar_flag                            233154 non-null int64\n",
      "PAN_flag                               233154 non-null int64\n",
      "VoterID_flag                           233154 non-null int64\n",
      "Driving_flag                           233154 non-null int64\n",
      "Passport_flag                          233154 non-null int64\n",
      "PERFORM_CNS.SCORE                      233154 non-null int64\n",
      "PERFORM_CNS.SCORE.DESCRIPTION          233154 non-null object\n",
      "PRI.NO.OF.ACCTS                        233154 non-null int64\n",
      "PRI.ACTIVE.ACCTS                       233154 non-null int64\n",
      "PRI.OVERDUE.ACCTS                      233154 non-null int64\n",
      "PRI.CURRENT.BALANCE                    233154 non-null int64\n",
      "PRI.SANCTIONED.AMOUNT                  233154 non-null int64\n",
      "PRI.DISBURSED.AMOUNT                   233154 non-null int64\n",
      "SEC.NO.OF.ACCTS                        233154 non-null int64\n",
      "SEC.ACTIVE.ACCTS                       233154 non-null int64\n",
      "SEC.OVERDUE.ACCTS                      233154 non-null int64\n",
      "SEC.CURRENT.BALANCE                    233154 non-null int64\n",
      "SEC.SANCTIONED.AMOUNT                  233154 non-null int64\n",
      "SEC.DISBURSED.AMOUNT                   233154 non-null int64\n",
      "PRIMARY.INSTAL.AMT                     233154 non-null int64\n",
      "SEC.INSTAL.AMT                         233154 non-null int64\n",
      "NEW.ACCTS.IN.LAST.SIX.MONTHS           233154 non-null int64\n",
      "DELINQUENT.ACCTS.IN.LAST.SIX.MONTHS    233154 non-null int64\n",
      "AVERAGE.ACCT.AGE                       233154 non-null object\n",
      "CREDIT.HISTORY.LENGTH                  233154 non-null object\n",
      "NO.OF_INQUIRIES                        233154 non-null int64\n",
      "loan_default                           233154 non-null int64\n",
      "dtypes: float64(1), int64(34), object(6)\n",
      "memory usage: 74.7+ MB\n"
     ]
    }
   ],
   "source": [
    "df_train.info()"
   ]
  },
  {
   "cell_type": "code",
   "execution_count": 12,
   "metadata": {
    "collapsed": true
   },
   "outputs": [],
   "source": [
    "train=df_train.drop(['UniqueID','Date.of.Birth','DisbursalDate','AVERAGE.ACCT.AGE','CREDIT.HISTORY.LENGTH'], axis=1)\n",
    "test=df_test.drop(['UniqueID','Date.of.Birth','DisbursalDate','AVERAGE.ACCT.AGE','CREDIT.HISTORY.LENGTH'], axis=1)"
   ]
  },
  {
   "cell_type": "code",
   "execution_count": 13,
   "metadata": {},
   "outputs": [
    {
     "data": {
      "text/html": [
       "<div>\n",
       "<table border=\"1\" class=\"dataframe\">\n",
       "  <thead>\n",
       "    <tr style=\"text-align: right;\">\n",
       "      <th></th>\n",
       "      <th>disbursed_amount</th>\n",
       "      <th>asset_cost</th>\n",
       "      <th>ltv</th>\n",
       "      <th>branch_id</th>\n",
       "      <th>supplier_id</th>\n",
       "      <th>manufacturer_id</th>\n",
       "      <th>Current_pincode_ID</th>\n",
       "      <th>Employment.Type</th>\n",
       "      <th>State_ID</th>\n",
       "      <th>Employee_code_ID</th>\n",
       "      <th>...</th>\n",
       "      <th>SEC.OVERDUE.ACCTS</th>\n",
       "      <th>SEC.CURRENT.BALANCE</th>\n",
       "      <th>SEC.SANCTIONED.AMOUNT</th>\n",
       "      <th>SEC.DISBURSED.AMOUNT</th>\n",
       "      <th>PRIMARY.INSTAL.AMT</th>\n",
       "      <th>SEC.INSTAL.AMT</th>\n",
       "      <th>NEW.ACCTS.IN.LAST.SIX.MONTHS</th>\n",
       "      <th>DELINQUENT.ACCTS.IN.LAST.SIX.MONTHS</th>\n",
       "      <th>NO.OF_INQUIRIES</th>\n",
       "      <th>loan_default</th>\n",
       "    </tr>\n",
       "  </thead>\n",
       "  <tbody>\n",
       "    <tr>\n",
       "      <th>0</th>\n",
       "      <td>50578</td>\n",
       "      <td>58400</td>\n",
       "      <td>89.55</td>\n",
       "      <td>67</td>\n",
       "      <td>22807</td>\n",
       "      <td>45</td>\n",
       "      <td>1441</td>\n",
       "      <td>Salaried</td>\n",
       "      <td>6</td>\n",
       "      <td>1998</td>\n",
       "      <td>...</td>\n",
       "      <td>0</td>\n",
       "      <td>0</td>\n",
       "      <td>0</td>\n",
       "      <td>0</td>\n",
       "      <td>0</td>\n",
       "      <td>0</td>\n",
       "      <td>0</td>\n",
       "      <td>0</td>\n",
       "      <td>0</td>\n",
       "      <td>0</td>\n",
       "    </tr>\n",
       "    <tr>\n",
       "      <th>1</th>\n",
       "      <td>47145</td>\n",
       "      <td>65550</td>\n",
       "      <td>73.23</td>\n",
       "      <td>67</td>\n",
       "      <td>22807</td>\n",
       "      <td>45</td>\n",
       "      <td>1502</td>\n",
       "      <td>Self employed</td>\n",
       "      <td>6</td>\n",
       "      <td>1998</td>\n",
       "      <td>...</td>\n",
       "      <td>0</td>\n",
       "      <td>0</td>\n",
       "      <td>0</td>\n",
       "      <td>0</td>\n",
       "      <td>1991</td>\n",
       "      <td>0</td>\n",
       "      <td>0</td>\n",
       "      <td>1</td>\n",
       "      <td>0</td>\n",
       "      <td>1</td>\n",
       "    </tr>\n",
       "    <tr>\n",
       "      <th>2</th>\n",
       "      <td>53278</td>\n",
       "      <td>61360</td>\n",
       "      <td>89.63</td>\n",
       "      <td>67</td>\n",
       "      <td>22807</td>\n",
       "      <td>45</td>\n",
       "      <td>1497</td>\n",
       "      <td>Self employed</td>\n",
       "      <td>6</td>\n",
       "      <td>1998</td>\n",
       "      <td>...</td>\n",
       "      <td>0</td>\n",
       "      <td>0</td>\n",
       "      <td>0</td>\n",
       "      <td>0</td>\n",
       "      <td>0</td>\n",
       "      <td>0</td>\n",
       "      <td>0</td>\n",
       "      <td>0</td>\n",
       "      <td>0</td>\n",
       "      <td>0</td>\n",
       "    </tr>\n",
       "    <tr>\n",
       "      <th>3</th>\n",
       "      <td>57513</td>\n",
       "      <td>66113</td>\n",
       "      <td>88.48</td>\n",
       "      <td>67</td>\n",
       "      <td>22807</td>\n",
       "      <td>45</td>\n",
       "      <td>1501</td>\n",
       "      <td>Self employed</td>\n",
       "      <td>6</td>\n",
       "      <td>1998</td>\n",
       "      <td>...</td>\n",
       "      <td>0</td>\n",
       "      <td>0</td>\n",
       "      <td>0</td>\n",
       "      <td>0</td>\n",
       "      <td>31</td>\n",
       "      <td>0</td>\n",
       "      <td>0</td>\n",
       "      <td>0</td>\n",
       "      <td>1</td>\n",
       "      <td>1</td>\n",
       "    </tr>\n",
       "    <tr>\n",
       "      <th>4</th>\n",
       "      <td>52378</td>\n",
       "      <td>60300</td>\n",
       "      <td>88.39</td>\n",
       "      <td>67</td>\n",
       "      <td>22807</td>\n",
       "      <td>45</td>\n",
       "      <td>1495</td>\n",
       "      <td>Self employed</td>\n",
       "      <td>6</td>\n",
       "      <td>1998</td>\n",
       "      <td>...</td>\n",
       "      <td>0</td>\n",
       "      <td>0</td>\n",
       "      <td>0</td>\n",
       "      <td>0</td>\n",
       "      <td>0</td>\n",
       "      <td>0</td>\n",
       "      <td>0</td>\n",
       "      <td>0</td>\n",
       "      <td>1</td>\n",
       "      <td>1</td>\n",
       "    </tr>\n",
       "  </tbody>\n",
       "</table>\n",
       "<p>5 rows × 36 columns</p>\n",
       "</div>"
      ],
      "text/plain": [
       "   disbursed_amount  asset_cost    ltv  branch_id  supplier_id  \\\n",
       "0             50578       58400  89.55         67        22807   \n",
       "1             47145       65550  73.23         67        22807   \n",
       "2             53278       61360  89.63         67        22807   \n",
       "3             57513       66113  88.48         67        22807   \n",
       "4             52378       60300  88.39         67        22807   \n",
       "\n",
       "   manufacturer_id  Current_pincode_ID Employment.Type  State_ID  \\\n",
       "0               45                1441        Salaried         6   \n",
       "1               45                1502   Self employed         6   \n",
       "2               45                1497   Self employed         6   \n",
       "3               45                1501   Self employed         6   \n",
       "4               45                1495   Self employed         6   \n",
       "\n",
       "   Employee_code_ID      ...       SEC.OVERDUE.ACCTS  SEC.CURRENT.BALANCE  \\\n",
       "0              1998      ...                       0                    0   \n",
       "1              1998      ...                       0                    0   \n",
       "2              1998      ...                       0                    0   \n",
       "3              1998      ...                       0                    0   \n",
       "4              1998      ...                       0                    0   \n",
       "\n",
       "   SEC.SANCTIONED.AMOUNT  SEC.DISBURSED.AMOUNT  PRIMARY.INSTAL.AMT  \\\n",
       "0                      0                     0                   0   \n",
       "1                      0                     0                1991   \n",
       "2                      0                     0                   0   \n",
       "3                      0                     0                  31   \n",
       "4                      0                     0                   0   \n",
       "\n",
       "   SEC.INSTAL.AMT  NEW.ACCTS.IN.LAST.SIX.MONTHS  \\\n",
       "0               0                             0   \n",
       "1               0                             0   \n",
       "2               0                             0   \n",
       "3               0                             0   \n",
       "4               0                             0   \n",
       "\n",
       "  DELINQUENT.ACCTS.IN.LAST.SIX.MONTHS  NO.OF_INQUIRIES  loan_default  \n",
       "0                                   0                0             0  \n",
       "1                                   1                0             1  \n",
       "2                                   0                0             0  \n",
       "3                                   0                1             1  \n",
       "4                                   0                1             1  \n",
       "\n",
       "[5 rows x 36 columns]"
      ]
     },
     "execution_count": 13,
     "metadata": {},
     "output_type": "execute_result"
    }
   ],
   "source": [
    "train.head()"
   ]
  },
  {
   "cell_type": "code",
   "execution_count": 14,
   "metadata": {
    "collapsed": true
   },
   "outputs": [],
   "source": [
    "le=LabelEncoder()\n",
    "col=['PERFORM_CNS.SCORE.DESCRIPTION', 'Employment.Type', 'Employee_code_ID','branch_id','supplier_id','manufacturer_id','Current_pincode_ID']\n",
    "for c in col:\n",
    "    train[c]=le.fit_transform(train[c])\n",
    "    test[c]=le.fit_transform(test[c])"
   ]
  },
  {
   "cell_type": "code",
   "execution_count": 15,
   "metadata": {},
   "outputs": [
    {
     "name": "stdout",
     "output_type": "stream",
     "text": [
      "0: 182543\n",
      "1: 50611\n"
     ]
    },
    {
     "data": {
      "image/png": "[encoded data removed]",
      "text/plain": [
       "<matplotlib.figure.Figure at 0x126a89a20>"
      ]
     },
     "metadata": {},
     "output_type": "display_data"
    }
   ],
   "source": [
    "#apply resampling\n",
    "target_count= train['loan_default'].value_counts()\n",
    "target_count.plot(kind='bar')\n",
    "print('0:',target_count[0])\n",
    "print('1:',target_count[1])\n",
    "plt.show()"
   ]
  },
  {
   "cell_type": "code",
   "execution_count": 16,
   "metadata": {
    "collapsed": true
   },
   "outputs": [],
   "source": [
    "count_0, count_1=train['loan_default'].value_counts()\n",
    "train_0=train[train['loan_default']==0]\n",
    "train_1=train[train['loan_default']==1]"
   ]
  },
  {
   "cell_type": "code",
   "execution_count": 17,
   "metadata": {},
   "outputs": [
    {
     "data": {
      "text/plain": [
       "1    50611\n",
       "0    50611\n",
       "Name: loan_default, dtype: int64"
      ]
     },
     "execution_count": 17,
     "metadata": {},
     "output_type": "execute_result"
    }
   ],
   "source": [
    "df_under=train_0.sample(count_1)\n",
    "df_under=pd.concat([df_under, train_1], axis=0)\n",
    "df_under['loan_default'].value_counts()"
   ]
  },
  {
   "cell_type": "code",
   "execution_count": 18,
   "metadata": {},
   "outputs": [
    {
     "data": {
      "text/plain": [
       "1    182543\n",
       "0    182543\n",
       "Name: loan_default, dtype: int64"
      ]
     },
     "execution_count": 18,
     "metadata": {},
     "output_type": "execute_result"
    }
   ],
   "source": [
    "df_over=train_1.sample(count_0, replace=True)\n",
    "df_over=pd.concat([df_over,train_0], axis=0)\n",
    "df_over['loan_default'].value_counts()"
   ]
  },
  {
   "cell_type": "code",
   "execution_count": 19,
   "metadata": {
    "collapsed": true
   },
   "outputs": [],
   "source": [
    "y_over=df_over['loan_default']\n",
    "x_over=df_over.drop('loan_default', axis=1)\n",
    "y_under=df_under['loan_default']\n",
    "x_under=df_under.drop('loan_default', axis=1)"
   ]
  },
  {
   "cell_type": "code",
   "execution_count": 20,
   "metadata": {},
   "outputs": [
    {
     "data": {
      "text/plain": [
       "(101222, 35)"
      ]
     },
     "execution_count": 20,
     "metadata": {},
     "output_type": "execute_result"
    }
   ],
   "source": [
    "x_under.shape"
   ]
  },
  {
   "cell_type": "code",
   "execution_count": 21,
   "metadata": {},
   "outputs": [
    {
     "name": "stderr",
     "output_type": "stream",
     "text": [
      "/Users/gagicha/anaconda/lib/python3.6/site-packages/sklearn/preprocessing/data.py:645: DataConversionWarning: Data with input dtype int64, float64 were all converted to float64 by StandardScaler.\n",
      "  return self.partial_fit(X, y)\n",
      "/Users/gagicha/anaconda/lib/python3.6/site-packages/ipykernel_launcher.py:6: DataConversionWarning: Data with input dtype int64, float64 were all converted to float64 by StandardScaler.\n",
      "  \n",
      "/Users/gagicha/anaconda/lib/python3.6/site-packages/ipykernel_launcher.py:8: DataConversionWarning: Data with input dtype int64, float64 were all converted to float64 by StandardScaler.\n",
      "  \n"
     ]
    }
   ],
   "source": [
    "#standard scaler on x and test\n",
    "scaler = StandardScaler()\n",
    "# Fit on training set only.\n",
    "scaler.fit(x_under)\n",
    "# Apply transform to both the training set and the test set.\n",
    "x_scale= scaler.transform(x_under)\n",
    "# x_over_scale= scaler.transform(x_over)\n",
    "test = scaler.transform(test)"
   ]
  },
  {
   "cell_type": "code",
   "execution_count": 22,
   "metadata": {
    "collapsed": true
   },
   "outputs": [],
   "source": [
    "#pca\n",
    "pca = PCA(.95)\n",
    "pca.fit(x_scale)\n",
    "x_pca = pca.transform(x_scale)\n",
    "test = pca.transform(test)"
   ]
  },
  {
   "cell_type": "code",
   "execution_count": 23,
   "metadata": {},
   "outputs": [
    {
     "data": {
      "text/plain": [
       "24"
      ]
     },
     "execution_count": 23,
     "metadata": {},
     "output_type": "execute_result"
    }
   ],
   "source": [
    "pca.n_components_"
   ]
  },
  {
   "cell_type": "markdown",
   "metadata": {},
   "source": [
    "so from 35 columns, pca transformed data to 24 columns."
   ]
  },
  {
   "cell_type": "code",
   "execution_count": 24,
   "metadata": {},
   "outputs": [],
   "source": [
    "import keras\n",
    "from keras.models import Sequential\n",
    "from keras.layers import Input, Dense, Dropout"
   ]
  },
  {
   "cell_type": "code",
   "execution_count": 44,
   "metadata": {
    "collapsed": true
   },
   "outputs": [],
   "source": [
    "def classifier(weights_path=None):    \n",
    "    model= Sequential()# this just means adding one layer at a time\n",
    "    model.add(Dense(15, input_dim=24, kernel_initializer='normal', activation='relu'))# dense layer is fully connected neural network layer\n",
    "    model.add(Dense(6, kernel_initializer='normal', activation='relu'))# dense layer is fully connected neural network layer\n",
    "    model.add(Dense(1, kernel_initializer='normal', activation='sigmoid'))\n",
    "    return model"
   ]
  },
  {
   "cell_type": "code",
   "execution_count": 45,
   "metadata": {},
   "outputs": [],
   "source": [
    "nn=classifier()"
   ]
  },
  {
   "cell_type": "code",
   "execution_count": 48,
   "metadata": {
    "collapsed": true
   },
   "outputs": [],
   "source": [
    "nn.compile(loss='binary_crossentropy', optimizer='sgd', metrics=['accuracy'])"
   ]
  },
  {
   "cell_type": "code",
   "execution_count": 49,
   "metadata": {},
   "outputs": [
    {
     "name": "stdout",
     "output_type": "stream",
     "text": [
      "Train on 70855 samples, validate on 30367 samples\n",
      "Epoch 1/20\n",
      "70855/70855 [==============================] - 2s 34us/step - loss: 0.4728 - acc: 0.7340 - val_loss: 4.7648 - val_acc: 0.0737\n",
      "Epoch 2/20\n",
      "70855/70855 [==============================] - 2s 31us/step - loss: 0.4725 - acc: 0.7342 - val_loss: 5.0293 - val_acc: 0.0558\n",
      "Epoch 3/20\n",
      "70855/70855 [==============================] - 2s 32us/step - loss: 0.4724 - acc: 0.7343 - val_loss: 4.8744 - val_acc: 0.0842\n",
      "Epoch 4/20\n",
      "70855/70855 [==============================] - 2s 32us/step - loss: 0.4723 - acc: 0.7355 - val_loss: 4.9779 - val_acc: 0.0695\n",
      "Epoch 5/20\n",
      "70855/70855 [==============================] - 2s 33us/step - loss: 0.4720 - acc: 0.7334 - val_loss: 5.1685 - val_acc: 0.0523\n",
      "Epoch 6/20\n",
      "70855/70855 [==============================] - 2s 32us/step - loss: 0.4722 - acc: 0.7347 - val_loss: 5.0381 - val_acc: 0.0732\n",
      "Epoch 7/20\n",
      "70855/70855 [==============================] - 2s 31us/step - loss: 0.4719 - acc: 0.7353 - val_loss: 5.0213 - val_acc: 0.0718\n",
      "Epoch 8/20\n",
      "70855/70855 [==============================] - 2s 31us/step - loss: 0.4720 - acc: 0.7335 - val_loss: 5.1423 - val_acc: 0.0583\n",
      "Epoch 9/20\n",
      "70855/70855 [==============================] - 2s 30us/step - loss: 0.4723 - acc: 0.7347 - val_loss: 5.1532 - val_acc: 0.0704\n",
      "Epoch 10/20\n",
      "70855/70855 [==============================] - 2s 32us/step - loss: 0.4720 - acc: 0.7345 - val_loss: 5.0763 - val_acc: 0.0664\n",
      "Epoch 11/20\n",
      "70855/70855 [==============================] - 2s 31us/step - loss: 0.4719 - acc: 0.7337 - val_loss: 5.0774 - val_acc: 0.0941\n",
      "Epoch 12/20\n",
      "70855/70855 [==============================] - 2s 32us/step - loss: 0.4720 - acc: 0.7343 - val_loss: 5.1447 - val_acc: 0.0635\n",
      "Epoch 13/20\n",
      "70855/70855 [==============================] - 2s 32us/step - loss: 0.4718 - acc: 0.7345 - val_loss: 5.0121 - val_acc: 0.0936\n",
      "Epoch 14/20\n",
      "70855/70855 [==============================] - 3s 41us/step - loss: 0.4718 - acc: 0.7343 - val_loss: 5.2132 - val_acc: 0.0642\n",
      "Epoch 15/20\n",
      "70855/70855 [==============================] - 2s 30us/step - loss: 0.4718 - acc: 0.7346 - val_loss: 5.1658 - val_acc: 0.0638\n",
      "Epoch 16/20\n",
      "70855/70855 [==============================] - 2s 31us/step - loss: 0.4719 - acc: 0.7343 - val_loss: 5.0904 - val_acc: 0.0875\n",
      "Epoch 17/20\n",
      "70855/70855 [==============================] - 2s 31us/step - loss: 0.4716 - acc: 0.7364 - val_loss: 5.2063 - val_acc: 0.0549\n",
      "Epoch 18/20\n",
      "70855/70855 [==============================] - 2s 31us/step - loss: 0.4717 - acc: 0.7347 - val_loss: 5.1635 - val_acc: 0.0703\n",
      "Epoch 19/20\n",
      "70855/70855 [==============================] - 3s 39us/step - loss: 0.4716 - acc: 0.7348 - val_loss: 5.1307 - val_acc: 0.0696\n",
      "Epoch 20/20\n",
      "70855/70855 [==============================] - 2s 33us/step - loss: 0.4715 - acc: 0.7348 - val_loss: 5.1756 - val_acc: 0.0663: 0s - loss: 0.4715 - acc: 0.\n"
     ]
    },
    {
     "data": {
      "text/plain": [
       "<keras.callbacks.History at 0x12a9162b0>"
      ]
     },
     "execution_count": 49,
     "metadata": {},
     "output_type": "execute_result"
    }
   ],
   "source": [
    "nn.fit(x_pca, y_under, validation_split=0.3, epochs=20, batch_size=32)"
   ]
  },
  {
   "cell_type": "code",
   "execution_count": 39,
   "metadata": {
    "collapsed": true
   },
   "outputs": [],
   "source": [
    "y_hat = nn.predict(test, batch_size=32)\n",
    "y_pred = np.argmax(y_hat,axis=1)"
   ]
  },
  {
   "cell_type": "code",
   "execution_count": 40,
   "metadata": {},
   "outputs": [],
   "source": [
    "out=pd.concat([df_test['UniqueID'], pd.DataFrame(y_pred, columns=['loan_default'])], axis=1)"
   ]
  },
  {
   "cell_type": "code",
   "execution_count": 41,
   "metadata": {},
   "outputs": [
    {
     "data": {
      "text/html": [
       "<div>\n",
       "<table border=\"1\" class=\"dataframe\">\n",
       "  <thead>\n",
       "    <tr style=\"text-align: right;\">\n",
       "      <th></th>\n",
       "      <th>UniqueID</th>\n",
       "      <th>loan_default</th>\n",
       "    </tr>\n",
       "  </thead>\n",
       "  <tbody>\n",
       "    <tr>\n",
       "      <th>0</th>\n",
       "      <td>655269</td>\n",
       "      <td>0</td>\n",
       "    </tr>\n",
       "    <tr>\n",
       "      <th>1</th>\n",
       "      <td>723482</td>\n",
       "      <td>0</td>\n",
       "    </tr>\n",
       "    <tr>\n",
       "      <th>2</th>\n",
       "      <td>758529</td>\n",
       "      <td>0</td>\n",
       "    </tr>\n",
       "    <tr>\n",
       "      <th>3</th>\n",
       "      <td>763449</td>\n",
       "      <td>0</td>\n",
       "    </tr>\n",
       "    <tr>\n",
       "      <th>4</th>\n",
       "      <td>708663</td>\n",
       "      <td>0</td>\n",
       "    </tr>\n",
       "  </tbody>\n",
       "</table>\n",
       "</div>"
      ],
      "text/plain": [
       "   UniqueID  loan_default\n",
       "0    655269             0\n",
       "1    723482             0\n",
       "2    758529             0\n",
       "3    763449             0\n",
       "4    708663             0"
      ]
     },
     "execution_count": 41,
     "metadata": {},
     "output_type": "execute_result"
    }
   ],
   "source": [
    "out.head()"
   ]
  },
  {
   "cell_type": "code",
   "execution_count": 42,
   "metadata": {
    "collapsed": true
   },
   "outputs": [],
   "source": [
    "out.to_csv('loan_predict.csv', encoding='utf-8', index=False)"
   ]
  },
  {
   "cell_type": "code",
   "execution_count": null,
   "metadata": {
    "collapsed": true
   },
   "outputs": [],
   "source": []
  }
 ],
 "metadata": {
  "kernelspec": {
   "display_name": "Python 3",
   "language": "python",
   "name": "python3"
  },
  "language_info": {
   "codemirror_mode": {
    "name": "ipython",
    "version": 3
   },
   "file_extension": ".py",
   "mimetype": "text/x-python",
   "name": "python",
   "nbconvert_exporter": "python",
   "pygments_lexer": "ipython3",
   "version": "3.6.7"
  }
 },
 "nbformat": 4,
 "nbformat_minor": 2
}
