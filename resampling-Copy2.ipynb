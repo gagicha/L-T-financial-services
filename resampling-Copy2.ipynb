{
 "cells": [
  {
   "cell_type": "code",
   "execution_count": 43,
   "metadata": {
    "collapsed": true
   },
   "outputs": [],
   "source": [
    "import pandas as pd\n",
    "import numpy as np\n",
    "import matplotlib.pyplot as plt\n",
    "import seaborn as sns\n",
    "from sklearn.linear_model import LinearRegression, LogisticRegression\n",
    "from sklearn.preprocessing import LabelEncoder, MinMaxScaler, Normalizer, StandardScaler\n",
    "from sklearn import model_selection, tree, neighbors, metrics, ensemble\n",
    "from sklearn.svm import SVC\n",
    "from xgboost import XGBClassifier\n",
    "from imblearn.over_sampling import SMOTE\n",
    "from collections import Counter"
   ]
  },
  {
   "cell_type": "code",
   "execution_count": 2,
   "metadata": {
    "collapsed": true
   },
   "outputs": [],
   "source": [
    "df_train= pd.read_csv('LFTS_train/train.csv')\n",
    "df_test= pd.read_csv('LFTS_test.csv')"
   ]
  },
  {
   "cell_type": "code",
   "execution_count": 3,
   "metadata": {
    "collapsed": true
   },
   "outputs": [],
   "source": [
    "#20 most correlated features\n",
    "train=df_train[['ltv','disbursed_amount','PERFORM_CNS.SCORE.DESCRIPTION','PERFORM_CNS.SCORE','State_ID','VoterID_flag',\n",
    "              'NO.OF_INQUIRIES','Aadhar_flag','PRI.ACTIVE.ACCTS','PRI.OVERDUE.ACCTS','PRI.NO.OF.ACCTS','DELINQUENT.ACCTS.IN.LAST.SIX.MONTHS',\n",
    "              'NEW.ACCTS.IN.LAST.SIX.MONTHS','Employment.Type','PRI.CURRENT.BALANCE','Employee_code_ID','asset_cost','PRI.SANCTIONED.AMOUNT',\n",
    "              'PRI.DISBURSED.AMOUNT','PRIMARY.INSTAL.AMT','loan_default']]\n",
    "test=df_test[['ltv','disbursed_amount','PERFORM_CNS.SCORE.DESCRIPTION','PERFORM_CNS.SCORE','State_ID','VoterID_flag',\n",
    "              'NO.OF_INQUIRIES','Aadhar_flag','PRI.ACTIVE.ACCTS','PRI.OVERDUE.ACCTS','PRI.NO.OF.ACCTS','DELINQUENT.ACCTS.IN.LAST.SIX.MONTHS',\n",
    "              'NEW.ACCTS.IN.LAST.SIX.MONTHS','Employment.Type','PRI.CURRENT.BALANCE','Employee_code_ID','asset_cost','PRI.SANCTIONED.AMOUNT',\n",
    "              'PRI.DISBURSED.AMOUNT','PRIMARY.INSTAL.AMT']]"
   ]
  },
  {
   "cell_type": "code",
   "execution_count": 4,
   "metadata": {
    "collapsed": true
   },
   "outputs": [],
   "source": [
    "train=train.drop(['PERFORM_CNS.SCORE', 'PRI.NO.OF.ACCTS','Aadhar_flag','NEW.ACCTS.IN.LAST.SIX.MONTHS','asset_cost','PRI.DISBURSED.AMOUNT'], axis=1)\n",
    "test=test.drop(['PERFORM_CNS.SCORE', 'PRI.NO.OF.ACCTS','Aadhar_flag','NEW.ACCTS.IN.LAST.SIX.MONTHS','asset_cost','PRI.DISBURSED.AMOUNT'], axis=1)"
   ]
  },
  {
   "cell_type": "code",
   "execution_count": 5,
   "metadata": {},
   "outputs": [
    {
     "name": "stdout",
     "output_type": "stream",
     "text": [
      "(233154, 15)\n",
      "(112392, 14)\n"
     ]
    }
   ],
   "source": [
    "print(train.shape)\n",
    "print(test.shape)"
   ]
  },
  {
   "cell_type": "code",
   "execution_count": 6,
   "metadata": {},
   "outputs": [
    {
     "data": {
      "text/plain": [
       "ltv                                       0\n",
       "disbursed_amount                          0\n",
       "PERFORM_CNS.SCORE.DESCRIPTION             0\n",
       "State_ID                                  0\n",
       "VoterID_flag                              0\n",
       "NO.OF_INQUIRIES                           0\n",
       "PRI.ACTIVE.ACCTS                          0\n",
       "PRI.OVERDUE.ACCTS                         0\n",
       "DELINQUENT.ACCTS.IN.LAST.SIX.MONTHS       0\n",
       "Employment.Type                        7661\n",
       "PRI.CURRENT.BALANCE                       0\n",
       "Employee_code_ID                          0\n",
       "PRI.SANCTIONED.AMOUNT                     0\n",
       "PRIMARY.INSTAL.AMT                        0\n",
       "loan_default                              0\n",
       "dtype: int64"
      ]
     },
     "execution_count": 6,
     "metadata": {},
     "output_type": "execute_result"
    }
   ],
   "source": [
    "# if u just use dropna then u are loosing aroound 10k data points. So lets instead fill these up by first knowing how many values are null in each column\n",
    "# train.dropna(inplace=True)\n",
    "pd.isnull(train).sum()"
   ]
  },
  {
   "cell_type": "code",
   "execution_count": 7,
   "metadata": {},
   "outputs": [],
   "source": [
    "train['Employment.Type'].fillna(train['Employment.Type'].dropna().max(), inplace=True)\n",
    "test['Employment.Type'].fillna(test['Employment.Type'].dropna().max(), inplace=True)"
   ]
  },
  {
   "cell_type": "code",
   "execution_count": 8,
   "metadata": {
    "collapsed": true
   },
   "outputs": [],
   "source": [
    "le=LabelEncoder()\n",
    "col=['PERFORM_CNS.SCORE.DESCRIPTION', 'Employment.Type', 'Employee_code_ID']\n",
    "for c in col:\n",
    "    train[c]=le.fit_transform(train[c])\n",
    "    test[c]=le.fit_transform(test[c])"
   ]
  },
  {
   "cell_type": "code",
   "execution_count": 9,
   "metadata": {},
   "outputs": [
    {
     "name": "stdout",
     "output_type": "stream",
     "text": [
      "0: 182543\n",
      "1: 50611\n"
     ]
    },
    {
     "data": {
      "image/png": "[encoded data removed]",
      "text/plain": [
       "<matplotlib.figure.Figure at 0x11a1545f8>"
      ]
     },
     "metadata": {},
     "output_type": "display_data"
    }
   ],
   "source": [
    "target_count= train['loan_default'].value_counts()\n",
    "target_count.plot(kind='bar')\n",
    "print('0:',target_count[0])\n",
    "print('1:',target_count[1])\n",
    "plt.show()"
   ]
  },
  {
   "cell_type": "markdown",
   "metadata": {},
   "source": [
    "as u can see the class in imbalance, so to avoid this imbalance we can either reduce the no of samples of target 0(undersampling) or increase the samples of target 1(oversampling). undersampling will result in loss of data but oversampling will result in overfitting."
   ]
  },
  {
   "cell_type": "code",
   "execution_count": 10,
   "metadata": {
    "collapsed": true
   },
   "outputs": [],
   "source": [
    "count_0, count_1=train['loan_default'].value_counts()\n",
    "train_0=train[train['loan_default']==0]\n",
    "train_1=train[train['loan_default']==1]"
   ]
  },
  {
   "cell_type": "markdown",
   "metadata": {},
   "source": [
    "random under sampling"
   ]
  },
  {
   "cell_type": "code",
   "execution_count": 11,
   "metadata": {},
   "outputs": [
    {
     "data": {
      "text/plain": [
       "1    50611\n",
       "0    50611\n",
       "Name: loan_default, dtype: int64"
      ]
     },
     "execution_count": 11,
     "metadata": {},
     "output_type": "execute_result"
    }
   ],
   "source": [
    "df_under=train_0.sample(count_1)\n",
    "df_under=pd.concat([df_under, train_1], axis=0)\n",
    "df_under['loan_default'].value_counts()"
   ]
  },
  {
   "cell_type": "markdown",
   "metadata": {},
   "source": [
    "random over sampling"
   ]
  },
  {
   "cell_type": "code",
   "execution_count": 12,
   "metadata": {},
   "outputs": [
    {
     "data": {
      "text/plain": [
       "1    182543\n",
       "0    182543\n",
       "Name: loan_default, dtype: int64"
      ]
     },
     "execution_count": 12,
     "metadata": {},
     "output_type": "execute_result"
    }
   ],
   "source": [
    "df_over=train_1.sample(count_0, replace=True)\n",
    "df_over=pd.concat([df_over,train_0], axis=0)\n",
    "df_over['loan_default'].value_counts()"
   ]
  },
  {
   "cell_type": "code",
   "execution_count": 13,
   "metadata": {},
   "outputs": [
    {
     "data": {
      "text/plain": [
       "(365086, 15)"
      ]
     },
     "execution_count": 13,
     "metadata": {},
     "output_type": "execute_result"
    }
   ],
   "source": [
    "df_over.shape"
   ]
  },
  {
   "cell_type": "code",
   "execution_count": 36,
   "metadata": {
    "collapsed": true
   },
   "outputs": [],
   "source": [
    "# apply scaler to the data\n",
    "y_over=df_over['loan_default']\n",
    "x_over=df_over.drop('loan_default',1)\n",
    "y_under=df_under['loan_default']\n",
    "x_under=df_under.drop('loan_default',1)"
   ]
  },
  {
   "cell_type": "code",
   "execution_count": 37,
   "metadata": {},
   "outputs": [
    {
     "name": "stderr",
     "output_type": "stream",
     "text": [
      "/Users/gagicha/anaconda/lib/python3.6/site-packages/sklearn/preprocessing/data.py:334: DataConversionWarning: Data with input dtype int64, float64 were all converted to float64 by MinMaxScaler.\n",
      "  return self.partial_fit(X, y)\n",
      "/Users/gagicha/anaconda/lib/python3.6/site-packages/sklearn/preprocessing/data.py:334: DataConversionWarning: Data with input dtype int64, float64 were all converted to float64 by MinMaxScaler.\n",
      "  return self.partial_fit(X, y)\n"
     ]
    }
   ],
   "source": [
    "scaler=MinMaxScaler(feature_range=(0,1))\n",
    "x_under_scale=pd.DataFrame(scaler.fit_transform(x_under))\n",
    "x_over_scale=pd.DataFrame(scaler.fit_transform(x_over))\n",
    "# x_over_smote_scale=pd.DataFrame(scaler.fit_transform(x_over_smote))\n",
    "# test=pd.DataFrame(scaler.fit_transform(test))"
   ]
  },
  {
   "cell_type": "code",
   "execution_count": 16,
   "metadata": {
    "collapsed": true
   },
   "outputs": [],
   "source": [
    "train_x, test_x, train_y, test_y= model_selection.train_test_split(x_over_scale, y_over, test_size=0.33)"
   ]
  },
  {
   "cell_type": "code",
   "execution_count": 17,
   "metadata": {},
   "outputs": [
    {
     "data": {
      "text/plain": [
       "0    60358\n",
       "1    60121\n",
       "Name: loan_default, dtype: int64"
      ]
     },
     "execution_count": 17,
     "metadata": {},
     "output_type": "execute_result"
    }
   ],
   "source": [
    "test_y.value_counts()"
   ]
  },
  {
   "cell_type": "code",
   "execution_count": 18,
   "metadata": {},
   "outputs": [
    {
     "name": "stdout",
     "output_type": "stream",
     "text": [
      "acc:  0.9005386830899991\n",
      "auc:  0.9005899103397498\n",
      "[[52786  7572]\n",
      " [ 4411 55710]]\n"
     ]
    }
   ],
   "source": [
    "rf1=ensemble.RandomForestClassifier(n_estimators=1500)\n",
    "rf1.fit(train_x, train_y)\n",
    "print('acc: ',rf1.score(test_x, test_y))\n",
    "pred_rf1=rf1.predict(test_x)\n",
    "print('auc: ',metrics.roc_auc_score(test_y, pred_rf1))\n",
    "print(metrics.confusion_matrix(test_y, pred_rf1))"
   ]
  },
  {
   "cell_type": "code",
   "execution_count": 28,
   "metadata": {},
   "outputs": [
    {
     "name": "stderr",
     "output_type": "stream",
     "text": [
      "/Users/gagicha/anaconda/lib/python3.6/site-packages/sklearn/ensemble/forest.py:246: FutureWarning: The default value of n_estimators will change from 10 in version 0.20 to 100 in 0.22.\n",
      "  \"10 in version 0.20 to 100 in 0.22.\", FutureWarning)\n"
     ]
    },
    {
     "name": "stdout",
     "output_type": "stream",
     "text": [
      "acc:  0.8826185476307075\n"
     ]
    }
   ],
   "source": [
    "rf=ensemble.RandomForestClassifier()\n",
    "rf.fit(train_x, train_y)\n",
    "print('acc: ',rf.score(test_x, test_y))\n",
    "# pred_rf1=rf1.predict(test_x)\n",
    "# print('auc: ',metrics.roc_auc_score(test_y, pred_rf1))\n",
    "# print(metrics.confusion_matrix(test_y, pred_rf1))"
   ]
  },
  {
   "cell_type": "code",
   "execution_count": 32,
   "metadata": {},
   "outputs": [
    {
     "name": "stdout",
     "output_type": "stream",
     "text": [
      "acc:  0.6051594053735506\n",
      "auc:  0.6052737067835032\n",
      "[[33026 27332]\n",
      " [20238 39883]]\n"
     ]
    }
   ],
   "source": [
    "xgb=XGBClassifier()\n",
    "xgb.fit(train_x, train_y)\n",
    "print('acc: ',xgb.score(test_x, test_y))\n",
    "pred_xgb= xgb.predict(test_x)\n",
    "# print('auc: ',metrics.roc_auc_score(test_y, pred_xgb))\n",
    "print(metrics.confusion_matrix(test_y, pred_xgb))"
   ]
  },
  {
   "cell_type": "code",
   "execution_count": 38,
   "metadata": {
    "collapsed": true
   },
   "outputs": [],
   "source": [
    "train_x, test_x, train_y, test_y= model_selection.train_test_split(x_under_scale, y_under, test_size=0.33)"
   ]
  },
  {
   "cell_type": "code",
   "execution_count": 39,
   "metadata": {},
   "outputs": [
    {
     "name": "stderr",
     "output_type": "stream",
     "text": [
      "/Users/gagicha/anaconda/lib/python3.6/site-packages/sklearn/ensemble/forest.py:246: FutureWarning: The default value of n_estimators will change from 10 in version 0.20 to 100 in 0.22.\n",
      "  \"10 in version 0.20 to 100 in 0.22.\", FutureWarning)\n"
     ]
    },
    {
     "name": "stdout",
     "output_type": "stream",
     "text": [
      "acc:  0.5614597054245001\n",
      "auc:  0.5618707940641663\n",
      "[[10766  5856]\n",
      " [ 8793  7989]]\n"
     ]
    }
   ],
   "source": [
    "rf=ensemble.RandomForestClassifier()\n",
    "rf.fit(train_x, train_y)\n",
    "print('acc: ',rf.score(test_x, test_y))\n",
    "pred_rf=rf.predict(test_x)\n",
    "print('auc: ',metrics.roc_auc_score(test_y, pred_rf))\n",
    "print(metrics.confusion_matrix(test_y, pred_rf))"
   ]
  },
  {
   "cell_type": "code",
   "execution_count": 49,
   "metadata": {},
   "outputs": [
    {
     "name": "stderr",
     "output_type": "stream",
     "text": [
      "/Users/gagicha/anaconda/lib/python3.6/site-packages/sklearn/preprocessing/data.py:645: DataConversionWarning: Data with input dtype int64, float64 were all converted to float64 by StandardScaler.\n",
      "  return self.partial_fit(X, y)\n",
      "/Users/gagicha/anaconda/lib/python3.6/site-packages/ipykernel_launcher.py:3: DataConversionWarning: Data with input dtype int64, float64 were all converted to float64 by StandardScaler.\n",
      "  This is separate from the ipykernel package so we can avoid doing imports until\n"
     ]
    }
   ],
   "source": [
    "scaler=StandardScaler()\n",
    "scaler.fit(x_under)\n",
    "x_under_scale = scaler.transform(x_under)\n",
    "test=scaler.transform(test)"
   ]
  },
  {
   "cell_type": "code",
   "execution_count": 50,
   "metadata": {
    "collapsed": true
   },
   "outputs": [],
   "source": [
    "train_x, test_x, train_y, test_y= model_selection.train_test_split(x_under_scale, y_under, test_size=0.33)"
   ]
  },
  {
   "cell_type": "code",
   "execution_count": 51,
   "metadata": {},
   "outputs": [
    {
     "name": "stderr",
     "output_type": "stream",
     "text": [
      "/Users/gagicha/anaconda/lib/python3.6/site-packages/sklearn/ensemble/forest.py:246: FutureWarning: The default value of n_estimators will change from 10 in version 0.20 to 100 in 0.22.\n",
      "  \"10 in version 0.20 to 100 in 0.22.\", FutureWarning)\n"
     ]
    },
    {
     "name": "stdout",
     "output_type": "stream",
     "text": [
      "acc:  0.5588851634534786\n"
     ]
    }
   ],
   "source": [
    "rf=ensemble.RandomForestClassifier()\n",
    "rf.fit(train_x, train_y)\n",
    "print('acc: ',rf.score(test_x, test_y))"
   ]
  },
  {
   "cell_type": "code",
   "execution_count": 52,
   "metadata": {},
   "outputs": [
    {
     "data": {
      "text/html": [
       "<div>\n",
       "<table border=\"1\" class=\"dataframe\">\n",
       "  <thead>\n",
       "    <tr style=\"text-align: right;\">\n",
       "      <th></th>\n",
       "      <th>UniqueID</th>\n",
       "      <th>loan_default</th>\n",
       "    </tr>\n",
       "  </thead>\n",
       "  <tbody>\n",
       "    <tr>\n",
       "      <th>0</th>\n",
       "      <td>655269</td>\n",
       "      <td>0</td>\n",
       "    </tr>\n",
       "    <tr>\n",
       "      <th>1</th>\n",
       "      <td>723482</td>\n",
       "      <td>0</td>\n",
       "    </tr>\n",
       "    <tr>\n",
       "      <th>2</th>\n",
       "      <td>758529</td>\n",
       "      <td>0</td>\n",
       "    </tr>\n",
       "    <tr>\n",
       "      <th>3</th>\n",
       "      <td>763449</td>\n",
       "      <td>0</td>\n",
       "    </tr>\n",
       "    <tr>\n",
       "      <th>4</th>\n",
       "      <td>708663</td>\n",
       "      <td>0</td>\n",
       "    </tr>\n",
       "  </tbody>\n",
       "</table>\n",
       "</div>"
      ],
      "text/plain": [
       "   UniqueID  loan_default\n",
       "0    655269             0\n",
       "1    723482             0\n",
       "2    758529             0\n",
       "3    763449             0\n",
       "4    708663             0"
      ]
     },
     "execution_count": 52,
     "metadata": {},
     "output_type": "execute_result"
    }
   ],
   "source": [
    "out=pd.concat([df_test['UniqueID'], pd.DataFrame(rf.predict(test),columns=['loan_default'])], axis=1)\n",
    "out.head()"
   ]
  },
  {
   "cell_type": "code",
   "execution_count": 53,
   "metadata": {
    "collapsed": true
   },
   "outputs": [],
   "source": [
    "out.to_csv('loan_predict.csv', encoding='utf-8', index=False)"
   ]
  },
  {
   "cell_type": "code",
   "execution_count": null,
   "metadata": {
    "collapsed": true
   },
   "outputs": [],
   "source": []
  }
 ],
 "metadata": {
  "kernelspec": {
   "display_name": "Python 3",
   "language": "python",
   "name": "python3"
  },
  "language_info": {
   "codemirror_mode": {
    "name": "ipython",
    "version": 3
   },
   "file_extension": ".py",
   "mimetype": "text/x-python",
   "name": "python",
   "nbconvert_exporter": "python",
   "pygments_lexer": "ipython3",
   "version": "3.6.7"
  }
 },
 "nbformat": 4,
 "nbformat_minor": 2
}
